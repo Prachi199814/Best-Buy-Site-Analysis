{
 "cells": [
  {
   "cell_type": "code",
   "execution_count": 1,
   "id": "26c1332b-ff61-455e-b84b-c257aec9ec20",
   "metadata": {},
   "outputs": [],
   "source": [
    "import pandas as pd\n",
    "import selenium\n",
    "from selenium import webdriver\n",
    "from selenium.webdriver.common.by import By\n",
    "from bs4 import BeautifulSoup\n",
    "import requests\n",
    "from selenium.webdriver.support.ui import Select\n",
    "import time\n",
    "from selenium.webdriver.common.keys import Keys"
   ]
  },
  {
   "cell_type": "code",
   "execution_count": 2,
   "id": "bf8f889b-2169-4069-8b2f-a808829d3d33",
   "metadata": {},
   "outputs": [],
   "source": [
    "driver=webdriver.Chrome()"
   ]
  },
  {
   "cell_type": "code",
   "execution_count": 3,
   "id": "0e423d0f-7503-4e22-bfc8-39fa9a6b14d1",
   "metadata": {},
   "outputs": [],
   "source": [
    "url=\"https://www.bestbuy.com/site/searchpage.jsp?cp=2&id=pcat17071&st=refrigerator\"\n",
    "driver.get(url)"
   ]
  },
  {
   "cell_type": "code",
   "execution_count": 4,
   "id": "f79d53a1-8e26-4728-bee2-229a39a33516",
   "metadata": {},
   "outputs": [],
   "source": [
    "driver.find_element(By.CLASS_NAME,'us-link').click()"
   ]
  },
  {
   "cell_type": "code",
   "execution_count": 139,
   "id": "f0cfe59e-e137-44d5-b164-2ba1324e4aa5",
   "metadata": {},
   "outputs": [],
   "source": [
    "last=int(driver.find_elements(By.CSS_SELECTOR,'.trans-button.page-number')[3].text)"
   ]
  },
  {
   "cell_type": "code",
   "execution_count": 140,
   "id": "ec1c041f-5ab9-4f8b-9b1b-5f44480b74ab",
   "metadata": {},
   "outputs": [
    {
     "name": "stdout",
     "output_type": "stream",
     "text": [
      "60\n"
     ]
    }
   ],
   "source": [
    "print(last)"
   ]
  },
  {
   "cell_type": "code",
   "execution_count": 7,
   "id": "420ed39e-26a3-46ea-bbb4-1d4763a4660a",
   "metadata": {},
   "outputs": [],
   "source": []
  },
  {
   "cell_type": "code",
   "execution_count": 5,
   "id": "e7d75eee-b414-4b31-9935-6084ef39cdcb",
   "metadata": {},
   "outputs": [],
   "source": [
    "Names,Models,SKUs,Ratings,Number_of_Reviews,Price=[],[],[],[],[],[]\n",
    "Category=[]\n",
    "for i in range(20):\n",
    "    items=driver.find_elements(By.CLASS_NAME,'shop-sku-list-item')\n",
    "    for item in items:\n",
    "        Name=item.find_element(By.CLASS_NAME,'sku-title')\n",
    "        Model=item.find_elements(By.CLASS_NAME,'sku-value')[0]\n",
    "        SKU=item.find_elements(By.CLASS_NAME,'sku-value')[1]\n",
    "        Rating=item.find_element(By.CLASS_NAME,'visually-hidden')\n",
    "        \n",
    "        \n",
    "        Prices=item.find_elements(By.XPATH, './/div[@data-testid=\"customer-price\"]/span')\n",
    "        for j in range(0,len(Prices),2):\n",
    "            Price.append(Prices[j].text)\n",
    "        Names.append(Name.text)\n",
    "        Models.append(Model.text)\n",
    "        SKUs.append(SKU.text)\n",
    "        Ratings.append(Rating.text)\n",
    "        Category.append('refrigerator')\n",
    "    next_page=driver.find_element(By.CLASS_NAME,'sku-list-page-next')\n",
    "    next_page.click()\n",
    "   "
   ]
  },
  {
   "cell_type": "code",
   "execution_count": 6,
   "id": "777e0b18-56d7-4366-8a74-7c3ec4d9409f",
   "metadata": {},
   "outputs": [
    {
     "name": "stdout",
     "output_type": "stream",
     "text": [
      "404\n",
      "404\n",
      "404\n",
      "404\n",
      "398\n",
      "404\n"
     ]
    }
   ],
   "source": [
    "print(len(Names))\n",
    "print(len(Models))\n",
    "print(len(SKUs))\n",
    "print(len(Ratings))\n",
    "print(len(Price))\n",
    "print(len(Category))"
   ]
  },
  {
   "cell_type": "code",
   "execution_count": 117,
   "id": "e34db524-e44a-44ce-8d47-89312fa74e44",
   "metadata": {},
   "outputs": [],
   "source": [
    "d={'Prices':Price}\n",
    "p=pd.DataFrame(d)\n",
    "p.to_csv('P.csv')"
   ]
  },
  {
   "cell_type": "code",
   "execution_count": 9,
   "id": "038d016d-619f-44a0-ab35-53f4ef185654",
   "metadata": {},
   "outputs": [],
   "source": [
    "clears=driver.find_element(By.CLASS_NAME,'clear-search-icon ')\n",
    "clears.click()\n",
    "search_box=driver.find_element(By.CLASS_NAME,'search-input ')\n",
    "keyword='microwave'\n",
    "search_box.send_keys(keyword)\n",
    "search_box.send_keys(Keys.RETURN)\n",
    "time.sleep(5)"
   ]
  },
  {
   "cell_type": "code",
   "execution_count": 12,
   "id": "d8adf3a4-65e7-40dd-88ac-4b56ca03092a",
   "metadata": {},
   "outputs": [],
   "source": [
    "for i in range(20):\n",
    "    items=driver.find_elements(By.CLASS_NAME,'shop-sku-list-item')\n",
    "    for item in items:\n",
    "        Name=item.find_element(By.CLASS_NAME,'sku-title')\n",
    "        Model=item.find_elements(By.CLASS_NAME,'sku-value')[0]\n",
    "        SKU=item.find_elements(By.CLASS_NAME,'sku-value')[1]\n",
    "        Rating=item.find_element(By.CLASS_NAME,'visually-hidden')\n",
    "        Prices=item.find_elements(By.XPATH, './/div[@data-testid=\"customer-price\"]/span')\n",
    "        for j in range(0,len(Prices),2):\n",
    "            Price.append(Prices[j].text)\n",
    "        \n",
    "        Names.append(Name.text)\n",
    "        Models.append(Model.text)\n",
    "        SKUs.append(SKU.text)\n",
    "        Ratings.append(Rating.text)\n",
    "        Category.append('microwave')\n",
    "        \n",
    "    next_page=driver.find_element(By.CLASS_NAME,'sku-list-page-next')\n",
    "    next_page.click()"
   ]
  },
  {
   "cell_type": "code",
   "execution_count": 13,
   "id": "c6b81d68-1826-4316-bc7e-6a099233ed4a",
   "metadata": {},
   "outputs": [
    {
     "name": "stdout",
     "output_type": "stream",
     "text": [
      "993\n",
      "993\n",
      "993\n",
      "993\n",
      "983\n",
      "993\n"
     ]
    }
   ],
   "source": [
    "print(len(Names))\n",
    "print(len(Models))\n",
    "print(len(SKUs))\n",
    "print(len(Ratings))\n",
    "print(len(Price))\n",
    "print(len(Category))"
   ]
  },
  {
   "cell_type": "code",
   "execution_count": 14,
   "id": "e6f5b7c0-da00-4269-920e-dfbda168b40f",
   "metadata": {},
   "outputs": [],
   "source": [
    "clears=driver.find_element(By.CLASS_NAME,'clear-search-icon ')\n",
    "clears.click()\n",
    "search_box=driver.find_element(By.CLASS_NAME,'search-input ')\n",
    "keyword='tv'\n",
    "search_box.send_keys(keyword)\n",
    "search_box.send_keys(Keys.RETURN)\n",
    "time.sleep(5)"
   ]
  },
  {
   "cell_type": "code",
   "execution_count": 15,
   "id": "e7a07d00-70f8-45ee-ac16-6446655fb56a",
   "metadata": {},
   "outputs": [],
   "source": [
    "for i in range(25):\n",
    "    items=driver.find_elements(By.CLASS_NAME,'shop-sku-list-item')\n",
    "    for item in items:\n",
    "        Name=item.find_element(By.CLASS_NAME,'sku-title')\n",
    "        Model=item.find_elements(By.CLASS_NAME,'sku-value')[0]\n",
    "        SKU=item.find_elements(By.CLASS_NAME,'sku-value')[1]\n",
    "        Rating=item.find_element(By.CLASS_NAME,'visually-hidden')\n",
    "        Prices=item.find_elements(By.XPATH, './/div[@data-testid=\"customer-price\"]/span')\n",
    "        for j in range(0,len(Prices),2):\n",
    "            Price.append(Prices[j].text)\n",
    "        Names.append(Name.text)\n",
    "        Models.append(Model.text)\n",
    "        SKUs.append(SKU.text)\n",
    "        Ratings.append(Rating.text)\n",
    "        Category.append('tv')\n",
    "    next_page=driver.find_element(By.CLASS_NAME,'sku-list-page-next')\n",
    "    next_page.click()"
   ]
  },
  {
   "cell_type": "code",
   "execution_count": 16,
   "id": "01c14dee-2be1-4aff-b457-e5947ae881d7",
   "metadata": {},
   "outputs": [
    {
     "name": "stdout",
     "output_type": "stream",
     "text": [
      "1482\n",
      "1482\n",
      "1482\n",
      "1482\n",
      "1456\n",
      "1482\n"
     ]
    }
   ],
   "source": [
    "print(len(Names))\n",
    "print(len(Models))\n",
    "print(len(SKUs))\n",
    "print(len(Ratings))\n",
    "print(len(Price))\n",
    "print(len(Category))"
   ]
  },
  {
   "cell_type": "code",
   "execution_count": 17,
   "id": "f2537478-b8fe-4cd5-b305-6a74618dd4d6",
   "metadata": {},
   "outputs": [],
   "source": [
    "clears=driver.find_element(By.CLASS_NAME,'clear-search-icon ')\n",
    "clears.click()\n",
    "search_box=driver.find_element(By.CLASS_NAME,'search-input ')\n",
    "keyword='dishwasher'\n",
    "search_box.send_keys(keyword)\n",
    "search_box.send_keys(Keys.RETURN)\n",
    "time.sleep(5)"
   ]
  },
  {
   "cell_type": "code",
   "execution_count": 20,
   "id": "9ad9dab3-a4eb-47b8-beb9-8bc87131355b",
   "metadata": {},
   "outputs": [],
   "source": [
    "for i in range(20):\n",
    "    items=driver.find_elements(By.CLASS_NAME,'shop-sku-list-item')\n",
    "    for item in items:\n",
    "        Name=item.find_element(By.CLASS_NAME,'sku-title')\n",
    "        Model=item.find_elements(By.CLASS_NAME,'sku-value')[0]\n",
    "        SKU=item.find_elements(By.CLASS_NAME,'sku-value')[1]\n",
    "        Rating=item.find_element(By.CLASS_NAME,'visually-hidden')\n",
    "        Prices=item.find_elements(By.XPATH, './/div[@data-testid=\"customer-price\"]/span')\n",
    "        for j in range(0,len(Prices),2):\n",
    "            Price.append(Prices[j].text)\n",
    "        Names.append(Name.text)\n",
    "        Models.append(Model.text)\n",
    "        SKUs.append(SKU.text)\n",
    "        Ratings.append(Rating.text)\n",
    "        Category.append('dishwasher')\n",
    "    next_page=driver.find_element(By.CLASS_NAME,'sku-list-page-next')\n",
    "    next_page.click()"
   ]
  },
  {
   "cell_type": "code",
   "execution_count": 21,
   "id": "8a593a97-5b99-4fee-858e-281a7b9c5b0b",
   "metadata": {},
   "outputs": [
    {
     "name": "stdout",
     "output_type": "stream",
     "text": [
      "2010\n",
      "2010\n",
      "2010\n",
      "2010\n",
      "1971\n",
      "2010\n"
     ]
    }
   ],
   "source": [
    "print(len(Names))\n",
    "print(len(Models))\n",
    "print(len(SKUs))\n",
    "print(len(Ratings))\n",
    "print(len(Price))\n",
    "print(len(Category))"
   ]
  },
  {
   "cell_type": "code",
   "execution_count": 22,
   "id": "a6d17965-1507-4307-ac94-0191a09ad041",
   "metadata": {},
   "outputs": [],
   "source": [
    "clears=driver.find_element(By.CLASS_NAME,'clear-search-icon ')\n",
    "clears.click()\n",
    "search_box=driver.find_element(By.CLASS_NAME,'search-input ')\n",
    "keyword='vacuum cleaner'\n",
    "search_box.send_keys(keyword)\n",
    "search_box.send_keys(Keys.RETURN)\n",
    "time.sleep(5)"
   ]
  },
  {
   "cell_type": "code",
   "execution_count": 23,
   "id": "95344a77-33ca-402f-85d9-34df4bb5b184",
   "metadata": {},
   "outputs": [],
   "source": [
    "for i in range(10):\n",
    "    items=driver.find_elements(By.CLASS_NAME,'shop-sku-list-item')\n",
    "    for item in items:\n",
    "        Name=item.find_element(By.CLASS_NAME,'sku-title')\n",
    "        Model=item.find_elements(By.CLASS_NAME,'sku-value')[0]\n",
    "        SKU=item.find_elements(By.CLASS_NAME,'sku-value')[1]\n",
    "        Rating=item.find_element(By.CLASS_NAME,'visually-hidden')\n",
    "        Prices=item.find_elements(By.XPATH, './/div[@data-testid=\"customer-price\"]/span')\n",
    "        for j in range(0,len(Prices),2):\n",
    "            Price.append(Prices[j].text)\n",
    "        Names.append(Name.text)\n",
    "        Models.append(Model.text)\n",
    "        SKUs.append(SKU.text)\n",
    "        Ratings.append(Rating.text)\n",
    "        Category.append('vacuum cleaner')\n",
    "    next_page=driver.find_element(By.CLASS_NAME,'sku-list-page-next')\n",
    "    next_page.click()"
   ]
  },
  {
   "cell_type": "code",
   "execution_count": 24,
   "id": "c80f1507-d598-4760-8712-90db7faa9ee2",
   "metadata": {},
   "outputs": [
    {
     "name": "stdout",
     "output_type": "stream",
     "text": [
      "2213\n",
      "2213\n",
      "2213\n",
      "2213\n",
      "2174\n",
      "2213\n"
     ]
    }
   ],
   "source": [
    "print(len(Names))\n",
    "print(len(Models))\n",
    "print(len(SKUs))\n",
    "print(len(Ratings))\n",
    "print(len(Price))\n",
    "print(len(Category))"
   ]
  },
  {
   "cell_type": "code",
   "execution_count": 25,
   "id": "480ddd5c-3aff-42a9-b4fc-bedf5fd084cb",
   "metadata": {},
   "outputs": [],
   "source": [
    "clears=driver.find_element(By.CLASS_NAME,'clear-search-icon ')\n",
    "clears.click()\n",
    "search_box=driver.find_element(By.CLASS_NAME,'search-input ')\n",
    "keyword='washing machine'\n",
    "search_box.send_keys(keyword)\n",
    "search_box.send_keys(Keys.RETURN)\n",
    "time.sleep(5)"
   ]
  },
  {
   "cell_type": "code",
   "execution_count": 26,
   "id": "5b44fd66-9535-45b1-af81-36a9e6acea77",
   "metadata": {},
   "outputs": [],
   "source": [
    "for i in range(10):\n",
    "    items=driver.find_elements(By.CLASS_NAME,'shop-sku-list-item')\n",
    "    for item in items:\n",
    "        Name=item.find_element(By.CLASS_NAME,'sku-title')\n",
    "        Model=item.find_elements(By.CLASS_NAME,'sku-value')[0]\n",
    "        SKU=item.find_elements(By.CLASS_NAME,'sku-value')[1]\n",
    "        Rating=item.find_element(By.CLASS_NAME,'visually-hidden')\n",
    "        Prices=item.find_elements(By.XPATH, './/div[@data-testid=\"customer-price\"]/span')\n",
    "        for j in range(0,len(Prices),2):\n",
    "            Price.append(Prices[j].text)\n",
    "        Names.append(Name.text)\n",
    "        Models.append(Model.text)\n",
    "        SKUs.append(SKU.text)\n",
    "        Ratings.append(Rating.text)\n",
    "        Category.append('washing machine')\n",
    "    next_page=driver.find_element(By.CLASS_NAME,'sku-list-page-next')\n",
    "    next_page.click()"
   ]
  },
  {
   "cell_type": "code",
   "execution_count": 27,
   "id": "ade123bb-f093-4a2a-9579-a426c1a5da05",
   "metadata": {},
   "outputs": [
    {
     "name": "stdout",
     "output_type": "stream",
     "text": [
      "2383\n",
      "2383\n",
      "2383\n",
      "2383\n",
      "2332\n",
      "2383\n"
     ]
    }
   ],
   "source": [
    "print(len(Names))\n",
    "print(len(Models))\n",
    "print(len(SKUs))\n",
    "print(len(Ratings))\n",
    "print(len(Price))\n",
    "print(len(Category))"
   ]
  },
  {
   "cell_type": "code",
   "execution_count": 28,
   "id": "d6ffd332-2b58-40e4-8a31-31674b5c098f",
   "metadata": {},
   "outputs": [],
   "source": [
    "clears=driver.find_element(By.CLASS_NAME,'clear-search-icon ')\n",
    "clears.click()\n",
    "search_box=driver.find_element(By.CLASS_NAME,'search-input ')\n",
    "keyword='Air Conditioner'\n",
    "search_box.send_keys(keyword)\n",
    "search_box.send_keys(Keys.RETURN)\n",
    "time.sleep(5)"
   ]
  },
  {
   "cell_type": "code",
   "execution_count": 29,
   "id": "2d5086d8-3b3d-40a8-9e99-4ef1173507d4",
   "metadata": {},
   "outputs": [],
   "source": [
    "for i in range(12):\n",
    "    items=driver.find_elements(By.CLASS_NAME,'shop-sku-list-item')\n",
    "    for item in items:\n",
    "        Name=item.find_element(By.CLASS_NAME,'sku-title')\n",
    "        Model=item.find_elements(By.CLASS_NAME,'sku-value')[0]\n",
    "        SKU=item.find_elements(By.CLASS_NAME,'sku-value')[1]\n",
    "        Rating=item.find_element(By.CLASS_NAME,'visually-hidden')\n",
    "        Prices=item.find_elements(By.XPATH, './/div[@data-testid=\"customer-price\"]/span')\n",
    "        for j in range(0,len(Prices),2):\n",
    "            Price.append(Prices[j].text)\n",
    "        Names.append(Name.text)\n",
    "        Models.append(Model.text)\n",
    "        SKUs.append(SKU.text)\n",
    "        Ratings.append(Rating.text)\n",
    "        Category.append('Air Conditioner')\n",
    "    next_page=driver.find_element(By.CLASS_NAME,'sku-list-page-next')\n",
    "    next_page.click()"
   ]
  },
  {
   "cell_type": "code",
   "execution_count": 30,
   "id": "7163a079-9c6b-4432-be8b-aca344599369",
   "metadata": {},
   "outputs": [
    {
     "name": "stdout",
     "output_type": "stream",
     "text": [
      "2599\n",
      "2599\n",
      "2599\n",
      "2599\n",
      "2547\n",
      "2599\n"
     ]
    }
   ],
   "source": [
    "print(len(Names))\n",
    "print(len(Models))\n",
    "print(len(SKUs))\n",
    "print(len(Ratings))\n",
    "print(len(Price))\n",
    "print(len(Category))"
   ]
  },
  {
   "cell_type": "code",
   "execution_count": 31,
   "id": "a32c221f-2c83-49cc-a48d-385f681d4832",
   "metadata": {},
   "outputs": [],
   "source": [
    "clears=driver.find_element(By.CLASS_NAME,'clear-search-icon ')\n",
    "clears.click()\n",
    "search_box=driver.find_element(By.CLASS_NAME,'search-input ')\n",
    "keyword='Cooktop'\n",
    "search_box.send_keys(keyword)\n",
    "search_box.send_keys(Keys.RETURN)\n",
    "time.sleep(5)"
   ]
  },
  {
   "cell_type": "code",
   "execution_count": 38,
   "id": "c5531a95-3b85-4ac5-8996-d3de39602a20",
   "metadata": {},
   "outputs": [
    {
     "ename": "ElementNotInteractableException",
     "evalue": "Message: element not interactable: element has zero size\n  (Session info: chrome=128.0.6613.138)\nStacktrace:\n\tGetHandleVerifier [0x00007FF7791B9412+29090]\n\t(No symbol) [0x00007FF77912E239]\n\t(No symbol) [0x00007FF778FEB1DA]\n\t(No symbol) [0x00007FF77904077D]\n\t(No symbol) [0x00007FF779032D81]\n\t(No symbol) [0x00007FF7790666EA]\n\t(No symbol) [0x00007FF7790326C6]\n\t(No symbol) [0x00007FF779066900]\n\t(No symbol) [0x00007FF7790865A2]\n\t(No symbol) [0x00007FF779066493]\n\t(No symbol) [0x00007FF7790309D1]\n\t(No symbol) [0x00007FF779031B31]\n\tGetHandleVerifier [0x00007FF7794D871D+3302573]\n\tGetHandleVerifier [0x00007FF779524243+3612627]\n\tGetHandleVerifier [0x00007FF77951A417+3572135]\n\tGetHandleVerifier [0x00007FF779275EB6+801862]\n\t(No symbol) [0x00007FF77913945F]\n\t(No symbol) [0x00007FF779134FB4]\n\t(No symbol) [0x00007FF779135140]\n\t(No symbol) [0x00007FF77912461F]\n\tBaseThreadInitThunk [0x00007FFD82B6257D+29]\n\tRtlUserThreadStart [0x00007FFD83F8AF28+40]\n",
     "output_type": "error",
     "traceback": [
      "\u001b[1;31m---------------------------------------------------------------------------\u001b[0m",
      "\u001b[1;31mElementNotInteractableException\u001b[0m           Traceback (most recent call last)",
      "Cell \u001b[1;32mIn[38], line 18\u001b[0m\n\u001b[0;32m     16\u001b[0m     Category\u001b[38;5;241m.\u001b[39mappend(\u001b[38;5;124m'\u001b[39m\u001b[38;5;124mCooktop\u001b[39m\u001b[38;5;124m'\u001b[39m)\n\u001b[0;32m     17\u001b[0m next_page\u001b[38;5;241m=\u001b[39mdriver\u001b[38;5;241m.\u001b[39mfind_element(By\u001b[38;5;241m.\u001b[39mCLASS_NAME,\u001b[38;5;124m'\u001b[39m\u001b[38;5;124msku-list-page-next\u001b[39m\u001b[38;5;124m'\u001b[39m)\n\u001b[1;32m---> 18\u001b[0m \u001b[43mnext_page\u001b[49m\u001b[38;5;241;43m.\u001b[39;49m\u001b[43mclick\u001b[49m\u001b[43m(\u001b[49m\u001b[43m)\u001b[49m\n",
      "File \u001b[1;32m~\\AppData\\Roaming\\Python\\Python312\\site-packages\\selenium\\webdriver\\remote\\webelement.py:94\u001b[0m, in \u001b[0;36mWebElement.click\u001b[1;34m(self)\u001b[0m\n\u001b[0;32m     92\u001b[0m \u001b[38;5;28;01mdef\u001b[39;00m \u001b[38;5;21mclick\u001b[39m(\u001b[38;5;28mself\u001b[39m) \u001b[38;5;241m-\u001b[39m\u001b[38;5;241m>\u001b[39m \u001b[38;5;28;01mNone\u001b[39;00m:\n\u001b[0;32m     93\u001b[0m \u001b[38;5;250m    \u001b[39m\u001b[38;5;124;03m\"\"\"Clicks the element.\"\"\"\u001b[39;00m\n\u001b[1;32m---> 94\u001b[0m     \u001b[38;5;28;43mself\u001b[39;49m\u001b[38;5;241;43m.\u001b[39;49m\u001b[43m_execute\u001b[49m\u001b[43m(\u001b[49m\u001b[43mCommand\u001b[49m\u001b[38;5;241;43m.\u001b[39;49m\u001b[43mCLICK_ELEMENT\u001b[49m\u001b[43m)\u001b[49m\n",
      "File \u001b[1;32m~\\AppData\\Roaming\\Python\\Python312\\site-packages\\selenium\\webdriver\\remote\\webelement.py:395\u001b[0m, in \u001b[0;36mWebElement._execute\u001b[1;34m(self, command, params)\u001b[0m\n\u001b[0;32m    393\u001b[0m     params \u001b[38;5;241m=\u001b[39m {}\n\u001b[0;32m    394\u001b[0m params[\u001b[38;5;124m\"\u001b[39m\u001b[38;5;124mid\u001b[39m\u001b[38;5;124m\"\u001b[39m] \u001b[38;5;241m=\u001b[39m \u001b[38;5;28mself\u001b[39m\u001b[38;5;241m.\u001b[39m_id\n\u001b[1;32m--> 395\u001b[0m \u001b[38;5;28;01mreturn\u001b[39;00m \u001b[38;5;28;43mself\u001b[39;49m\u001b[38;5;241;43m.\u001b[39;49m\u001b[43m_parent\u001b[49m\u001b[38;5;241;43m.\u001b[39;49m\u001b[43mexecute\u001b[49m\u001b[43m(\u001b[49m\u001b[43mcommand\u001b[49m\u001b[43m,\u001b[49m\u001b[43m \u001b[49m\u001b[43mparams\u001b[49m\u001b[43m)\u001b[49m\n",
      "File \u001b[1;32m~\\AppData\\Roaming\\Python\\Python312\\site-packages\\selenium\\webdriver\\remote\\webdriver.py:354\u001b[0m, in \u001b[0;36mWebDriver.execute\u001b[1;34m(self, driver_command, params)\u001b[0m\n\u001b[0;32m    352\u001b[0m response \u001b[38;5;241m=\u001b[39m \u001b[38;5;28mself\u001b[39m\u001b[38;5;241m.\u001b[39mcommand_executor\u001b[38;5;241m.\u001b[39mexecute(driver_command, params)\n\u001b[0;32m    353\u001b[0m \u001b[38;5;28;01mif\u001b[39;00m response:\n\u001b[1;32m--> 354\u001b[0m     \u001b[38;5;28;43mself\u001b[39;49m\u001b[38;5;241;43m.\u001b[39;49m\u001b[43merror_handler\u001b[49m\u001b[38;5;241;43m.\u001b[39;49m\u001b[43mcheck_response\u001b[49m\u001b[43m(\u001b[49m\u001b[43mresponse\u001b[49m\u001b[43m)\u001b[49m\n\u001b[0;32m    355\u001b[0m     response[\u001b[38;5;124m\"\u001b[39m\u001b[38;5;124mvalue\u001b[39m\u001b[38;5;124m\"\u001b[39m] \u001b[38;5;241m=\u001b[39m \u001b[38;5;28mself\u001b[39m\u001b[38;5;241m.\u001b[39m_unwrap_value(response\u001b[38;5;241m.\u001b[39mget(\u001b[38;5;124m\"\u001b[39m\u001b[38;5;124mvalue\u001b[39m\u001b[38;5;124m\"\u001b[39m, \u001b[38;5;28;01mNone\u001b[39;00m))\n\u001b[0;32m    356\u001b[0m     \u001b[38;5;28;01mreturn\u001b[39;00m response\n",
      "File \u001b[1;32m~\\AppData\\Roaming\\Python\\Python312\\site-packages\\selenium\\webdriver\\remote\\errorhandler.py:229\u001b[0m, in \u001b[0;36mErrorHandler.check_response\u001b[1;34m(self, response)\u001b[0m\n\u001b[0;32m    227\u001b[0m         alert_text \u001b[38;5;241m=\u001b[39m value[\u001b[38;5;124m\"\u001b[39m\u001b[38;5;124malert\u001b[39m\u001b[38;5;124m\"\u001b[39m]\u001b[38;5;241m.\u001b[39mget(\u001b[38;5;124m\"\u001b[39m\u001b[38;5;124mtext\u001b[39m\u001b[38;5;124m\"\u001b[39m)\n\u001b[0;32m    228\u001b[0m     \u001b[38;5;28;01mraise\u001b[39;00m exception_class(message, screen, stacktrace, alert_text)  \u001b[38;5;66;03m# type: ignore[call-arg]  # mypy is not smart enough here\u001b[39;00m\n\u001b[1;32m--> 229\u001b[0m \u001b[38;5;28;01mraise\u001b[39;00m exception_class(message, screen, stacktrace)\n",
      "\u001b[1;31mElementNotInteractableException\u001b[0m: Message: element not interactable: element has zero size\n  (Session info: chrome=128.0.6613.138)\nStacktrace:\n\tGetHandleVerifier [0x00007FF7791B9412+29090]\n\t(No symbol) [0x00007FF77912E239]\n\t(No symbol) [0x00007FF778FEB1DA]\n\t(No symbol) [0x00007FF77904077D]\n\t(No symbol) [0x00007FF779032D81]\n\t(No symbol) [0x00007FF7790666EA]\n\t(No symbol) [0x00007FF7790326C6]\n\t(No symbol) [0x00007FF779066900]\n\t(No symbol) [0x00007FF7790865A2]\n\t(No symbol) [0x00007FF779066493]\n\t(No symbol) [0x00007FF7790309D1]\n\t(No symbol) [0x00007FF779031B31]\n\tGetHandleVerifier [0x00007FF7794D871D+3302573]\n\tGetHandleVerifier [0x00007FF779524243+3612627]\n\tGetHandleVerifier [0x00007FF77951A417+3572135]\n\tGetHandleVerifier [0x00007FF779275EB6+801862]\n\t(No symbol) [0x00007FF77913945F]\n\t(No symbol) [0x00007FF779134FB4]\n\t(No symbol) [0x00007FF779135140]\n\t(No symbol) [0x00007FF77912461F]\n\tBaseThreadInitThunk [0x00007FFD82B6257D+29]\n\tRtlUserThreadStart [0x00007FFD83F8AF28+40]\n"
     ]
    }
   ],
   "source": [
    "for i in range(25):\n",
    "    items=driver.find_elements(By.CLASS_NAME,'shop-sku-list-item')\n",
    "    for item in items:\n",
    "        Name=item.find_element(By.CLASS_NAME,'sku-title')\n",
    "        Model=item.find_elements(By.CLASS_NAME,'sku-value')[0]\n",
    "        SKU=item.find_elements(By.CLASS_NAME,'sku-value')[1]\n",
    "        Rating=item.find_element(By.CLASS_NAME,'visually-hidden')\n",
    "        Prices=item.find_elements(By.XPATH, './/div[@data-testid=\"customer-price\"]/span')\n",
    "        for j in range(0,len(Prices),2):\n",
    "            Price.append(Prices[j].text)\n",
    "        \n",
    "        Names.append(Name.text)\n",
    "        Models.append(Model.text)\n",
    "        SKUs.append(SKU.text)\n",
    "        Ratings.append(Rating.text)\n",
    "        Category.append('Cooktop')\n",
    "    next_page=driver.find_element(By.CLASS_NAME,'sku-list-page-next')\n",
    "    next_page.click()"
   ]
  },
  {
   "cell_type": "code",
   "execution_count": 39,
   "id": "408c27e4-5e6f-470b-8b59-3145e1e705ac",
   "metadata": {},
   "outputs": [
    {
     "name": "stdout",
     "output_type": "stream",
     "text": [
      "3361\n",
      "3361\n",
      "3361\n",
      "3361\n",
      "3303\n",
      "3361\n"
     ]
    }
   ],
   "source": [
    "print(len(Names))\n",
    "print(len(Models))\n",
    "print(len(SKUs))\n",
    "print(len(Ratings))\n",
    "print(len(Price))\n",
    "print(len(Category))"
   ]
  },
  {
   "cell_type": "code",
   "execution_count": 41,
   "id": "a20a0088-6d47-490c-8dfc-ee176b15ffc3",
   "metadata": {},
   "outputs": [],
   "source": [
    "Data={'Name':Names,'Model Number':Models,'SKU':SKUs,'Rating':Ratings,'Category':Category}\n",
    "df=pd.DataFrame(Data)"
   ]
  },
  {
   "cell_type": "code",
   "execution_count": 44,
   "id": "b7cace4e-3379-40c5-a054-81413d3450ae",
   "metadata": {},
   "outputs": [],
   "source": [
    "Price_Data={'Price':Price}\n",
    "DF=pd.DataFrame(Price_Data)"
   ]
  },
  {
   "cell_type": "code",
   "execution_count": 47,
   "id": "039fbd42-7d20-4f08-9dfe-11699354ec3a",
   "metadata": {},
   "outputs": [],
   "source": [
    "df.to_csv('Best Buy Data.csv')"
   ]
  },
  {
   "cell_type": "code",
   "execution_count": 43,
   "id": "ed44d172-e349-49fb-ae48-6f4ef594df08",
   "metadata": {},
   "outputs": [
    {
     "data": {
      "text/html": [
       "<div>\n",
       "<style scoped>\n",
       "    .dataframe tbody tr th:only-of-type {\n",
       "        vertical-align: middle;\n",
       "    }\n",
       "\n",
       "    .dataframe tbody tr th {\n",
       "        vertical-align: top;\n",
       "    }\n",
       "\n",
       "    .dataframe thead th {\n",
       "        text-align: right;\n",
       "    }\n",
       "</style>\n",
       "<table border=\"1\" class=\"dataframe\">\n",
       "  <thead>\n",
       "    <tr style=\"text-align: right;\">\n",
       "      <th></th>\n",
       "      <th>Name</th>\n",
       "      <th>Model Number</th>\n",
       "      <th>SKU</th>\n",
       "      <th>Rating</th>\n",
       "      <th>Category</th>\n",
       "    </tr>\n",
       "  </thead>\n",
       "  <tbody>\n",
       "    <tr>\n",
       "      <th>0</th>\n",
       "      <td>Samsung - 32 cu. ft. 3-Door French Door Smart ...</td>\n",
       "      <td>RF32CG5100SR/AA</td>\n",
       "      <td>6546219</td>\n",
       "      <td>Rating 4.6 out of 5 stars with 421 reviews</td>\n",
       "      <td>refrigerator</td>\n",
       "    </tr>\n",
       "    <tr>\n",
       "      <th>1</th>\n",
       "      <td>LG - 27.8 Cu. Ft. 4-Door French Door Smart Ref...</td>\n",
       "      <td>LMXS28626S</td>\n",
       "      <td>5968400</td>\n",
       "      <td>Rating 4.4 out of 5 stars with 1740 reviews</td>\n",
       "      <td>refrigerator</td>\n",
       "    </tr>\n",
       "    <tr>\n",
       "      <th>2</th>\n",
       "      <td>Samsung - 28 Cu. Ft. 4-Door French Door Smart ...</td>\n",
       "      <td>RF28R7201SR/AA</td>\n",
       "      <td>6323216</td>\n",
       "      <td>Rating 4.4 out of 5 stars with 1870 reviews</td>\n",
       "      <td>refrigerator</td>\n",
       "    </tr>\n",
       "    <tr>\n",
       "      <th>3</th>\n",
       "      <td>Whirlpool - 19.4 Cu. Ft. 4-Door French Door Co...</td>\n",
       "      <td>WRQA59CNKZ</td>\n",
       "      <td>6422487</td>\n",
       "      <td>Rating 4.6 out of 5 stars with 699 reviews</td>\n",
       "      <td>refrigerator</td>\n",
       "    </tr>\n",
       "    <tr>\n",
       "      <th>4</th>\n",
       "      <td>Insignia™ - 10 Cu. Ft. Top-Freezer Refrigerato...</td>\n",
       "      <td>NS-RTM10SS2</td>\n",
       "      <td>6449413</td>\n",
       "      <td>Rating 4.7 out of 5 stars with 1016 reviews</td>\n",
       "      <td>refrigerator</td>\n",
       "    </tr>\n",
       "    <tr>\n",
       "      <th>5</th>\n",
       "      <td>LG - 25.5 Cu. Ft. Bottom-Freezer Refrigerator ...</td>\n",
       "      <td>LRDCS2603S</td>\n",
       "      <td>6395330</td>\n",
       "      <td>Rating 4.6 out of 5 stars with 1395 reviews</td>\n",
       "      <td>refrigerator</td>\n",
       "    </tr>\n",
       "    <tr>\n",
       "      <th>6</th>\n",
       "      <td>Samsung - 15.6 cu. ft. Top Freezer Refrigerato...</td>\n",
       "      <td>RT16A6195SR/AA</td>\n",
       "      <td>6471975</td>\n",
       "      <td>Rating 4.6 out of 5 stars with 391 reviews</td>\n",
       "      <td>refrigerator</td>\n",
       "    </tr>\n",
       "    <tr>\n",
       "      <th>7</th>\n",
       "      <td>Samsung - BESPOKE 29 cu. ft. 4-Door French Doo...</td>\n",
       "      <td>RF29BB89008MAA</td>\n",
       "      <td>6493497</td>\n",
       "      <td>Rating 4.6 out of 5 stars with 613 reviews</td>\n",
       "      <td>refrigerator</td>\n",
       "    </tr>\n",
       "    <tr>\n",
       "      <th>8</th>\n",
       "      <td>New!Insignia™ - 14.2 Cu. Ft. Top-Freezer Refri...</td>\n",
       "      <td>NS-RTM14SS5</td>\n",
       "      <td>6562450</td>\n",
       "      <td>Rating 4.1 out of 5 stars with 9 reviews</td>\n",
       "      <td>refrigerator</td>\n",
       "    </tr>\n",
       "    <tr>\n",
       "      <th>9</th>\n",
       "      <td>Samsung - 22 cu. ft. Side-by-Side Counter Dept...</td>\n",
       "      <td>RS22T5201SR/AA</td>\n",
       "      <td>6397585</td>\n",
       "      <td>Rating 4.5 out of 5 stars with 1140 reviews</td>\n",
       "      <td>refrigerator</td>\n",
       "    </tr>\n",
       "    <tr>\n",
       "      <th>10</th>\n",
       "      <td>Samsung - BESPOKE 30 cu. ft. 3-Door French Doo...</td>\n",
       "      <td>RF30BB6600QL/AA</td>\n",
       "      <td>6493496</td>\n",
       "      <td>Rating 4.7 out of 5 stars with 1173 reviews</td>\n",
       "      <td>refrigerator</td>\n",
       "    </tr>\n",
       "    <tr>\n",
       "      <th>11</th>\n",
       "      <td>Whirlpool - 21.4 Cu. Ft. Side-by-Side Refriger...</td>\n",
       "      <td>WRS321SDHZ</td>\n",
       "      <td>6076924</td>\n",
       "      <td>Rating 4 out of 5 stars with 2128 reviews</td>\n",
       "      <td>refrigerator</td>\n",
       "    </tr>\n",
       "    <tr>\n",
       "      <th>12</th>\n",
       "      <td>Samsung - 28 Cu. Ft. 4-Door French Door Smart ...</td>\n",
       "      <td>RF28R7201SR/AA</td>\n",
       "      <td>6323216</td>\n",
       "      <td>Rating 4.4 out of 5 stars with 1870 reviews</td>\n",
       "      <td>refrigerator</td>\n",
       "    </tr>\n",
       "    <tr>\n",
       "      <th>13</th>\n",
       "      <td>LG - Counter-Depth MAX 26.5 Cu. Ft. French Doo...</td>\n",
       "      <td>LRFLC2706S</td>\n",
       "      <td>6511564</td>\n",
       "      <td>Rating 4.7 out of 5 stars with 625 reviews</td>\n",
       "      <td>refrigerator</td>\n",
       "    </tr>\n",
       "    <tr>\n",
       "      <th>14</th>\n",
       "      <td>Frigidaire 28.8 Cu. Ft. French Door Standard-D...</td>\n",
       "      <td>FRFN2813AF</td>\n",
       "      <td>6583542</td>\n",
       "      <td>Rating 5 out of 5 stars with 1 reviewfalse</td>\n",
       "      <td>refrigerator</td>\n",
       "    </tr>\n",
       "    <tr>\n",
       "      <th>15</th>\n",
       "      <td>LG - Counter-Depth MAX 25.5 Cu. Ft. French Doo...</td>\n",
       "      <td>LRFXC2606S</td>\n",
       "      <td>6532716</td>\n",
       "      <td>Rating 4.7 out of 5 stars with 421 reviews</td>\n",
       "      <td>refrigerator</td>\n",
       "    </tr>\n",
       "    <tr>\n",
       "      <th>16</th>\n",
       "      <td>LG - 27 Cu. Ft. Side-by-Side Smart Refrigerato...</td>\n",
       "      <td>LRSOS2706S</td>\n",
       "      <td>6468484</td>\n",
       "      <td>Rating 4.6 out of 5 stars with 983 reviews</td>\n",
       "      <td>refrigerator</td>\n",
       "    </tr>\n",
       "    <tr>\n",
       "      <th>17</th>\n",
       "      <td>Samsung - 15.6 cu. ft. Top Freezer Refrigerato...</td>\n",
       "      <td>RT16A6195SR/AA</td>\n",
       "      <td>6471975</td>\n",
       "      <td>Rating 4.6 out of 5 stars with 391 reviews</td>\n",
       "      <td>refrigerator</td>\n",
       "    </tr>\n",
       "    <tr>\n",
       "      <th>18</th>\n",
       "      <td>GE - 18.6 Cu. Ft. French Door Counter-Depth Re...</td>\n",
       "      <td>GWE19JYLFS</td>\n",
       "      <td>6475456</td>\n",
       "      <td>Rating 3.9 out of 5 stars with 98 reviews</td>\n",
       "      <td>refrigerator</td>\n",
       "    </tr>\n",
       "    <tr>\n",
       "      <th>19</th>\n",
       "      <td>Samsung - 28 cu. ft. Side-by-Side Smart Refrig...</td>\n",
       "      <td>RS28A500ASR/AA</td>\n",
       "      <td>6447149</td>\n",
       "      <td>Rating 4.7 out of 5 stars with 859 reviews</td>\n",
       "      <td>refrigerator</td>\n",
       "    </tr>\n",
       "  </tbody>\n",
       "</table>\n",
       "</div>"
      ],
      "text/plain": [
       "                                                 Name     Model Number  \\\n",
       "0   Samsung - 32 cu. ft. 3-Door French Door Smart ...  RF32CG5100SR/AA   \n",
       "1   LG - 27.8 Cu. Ft. 4-Door French Door Smart Ref...       LMXS28626S   \n",
       "2   Samsung - 28 Cu. Ft. 4-Door French Door Smart ...   RF28R7201SR/AA   \n",
       "3   Whirlpool - 19.4 Cu. Ft. 4-Door French Door Co...       WRQA59CNKZ   \n",
       "4   Insignia™ - 10 Cu. Ft. Top-Freezer Refrigerato...      NS-RTM10SS2   \n",
       "5   LG - 25.5 Cu. Ft. Bottom-Freezer Refrigerator ...       LRDCS2603S   \n",
       "6   Samsung - 15.6 cu. ft. Top Freezer Refrigerato...   RT16A6195SR/AA   \n",
       "7   Samsung - BESPOKE 29 cu. ft. 4-Door French Doo...   RF29BB89008MAA   \n",
       "8   New!Insignia™ - 14.2 Cu. Ft. Top-Freezer Refri...      NS-RTM14SS5   \n",
       "9   Samsung - 22 cu. ft. Side-by-Side Counter Dept...   RS22T5201SR/AA   \n",
       "10  Samsung - BESPOKE 30 cu. ft. 3-Door French Doo...  RF30BB6600QL/AA   \n",
       "11  Whirlpool - 21.4 Cu. Ft. Side-by-Side Refriger...       WRS321SDHZ   \n",
       "12  Samsung - 28 Cu. Ft. 4-Door French Door Smart ...   RF28R7201SR/AA   \n",
       "13  LG - Counter-Depth MAX 26.5 Cu. Ft. French Doo...       LRFLC2706S   \n",
       "14  Frigidaire 28.8 Cu. Ft. French Door Standard-D...       FRFN2813AF   \n",
       "15  LG - Counter-Depth MAX 25.5 Cu. Ft. French Doo...       LRFXC2606S   \n",
       "16  LG - 27 Cu. Ft. Side-by-Side Smart Refrigerato...       LRSOS2706S   \n",
       "17  Samsung - 15.6 cu. ft. Top Freezer Refrigerato...   RT16A6195SR/AA   \n",
       "18  GE - 18.6 Cu. Ft. French Door Counter-Depth Re...       GWE19JYLFS   \n",
       "19  Samsung - 28 cu. ft. Side-by-Side Smart Refrig...   RS28A500ASR/AA   \n",
       "\n",
       "        SKU                                       Rating      Category  \n",
       "0   6546219   Rating 4.6 out of 5 stars with 421 reviews  refrigerator  \n",
       "1   5968400  Rating 4.4 out of 5 stars with 1740 reviews  refrigerator  \n",
       "2   6323216  Rating 4.4 out of 5 stars with 1870 reviews  refrigerator  \n",
       "3   6422487   Rating 4.6 out of 5 stars with 699 reviews  refrigerator  \n",
       "4   6449413  Rating 4.7 out of 5 stars with 1016 reviews  refrigerator  \n",
       "5   6395330  Rating 4.6 out of 5 stars with 1395 reviews  refrigerator  \n",
       "6   6471975   Rating 4.6 out of 5 stars with 391 reviews  refrigerator  \n",
       "7   6493497   Rating 4.6 out of 5 stars with 613 reviews  refrigerator  \n",
       "8   6562450     Rating 4.1 out of 5 stars with 9 reviews  refrigerator  \n",
       "9   6397585  Rating 4.5 out of 5 stars with 1140 reviews  refrigerator  \n",
       "10  6493496  Rating 4.7 out of 5 stars with 1173 reviews  refrigerator  \n",
       "11  6076924    Rating 4 out of 5 stars with 2128 reviews  refrigerator  \n",
       "12  6323216  Rating 4.4 out of 5 stars with 1870 reviews  refrigerator  \n",
       "13  6511564   Rating 4.7 out of 5 stars with 625 reviews  refrigerator  \n",
       "14  6583542   Rating 5 out of 5 stars with 1 reviewfalse  refrigerator  \n",
       "15  6532716   Rating 4.7 out of 5 stars with 421 reviews  refrigerator  \n",
       "16  6468484   Rating 4.6 out of 5 stars with 983 reviews  refrigerator  \n",
       "17  6471975   Rating 4.6 out of 5 stars with 391 reviews  refrigerator  \n",
       "18  6475456    Rating 3.9 out of 5 stars with 98 reviews  refrigerator  \n",
       "19  6447149   Rating 4.7 out of 5 stars with 859 reviews  refrigerator  "
      ]
     },
     "execution_count": 43,
     "metadata": {},
     "output_type": "execute_result"
    }
   ],
   "source": [
    "df.head(20)"
   ]
  },
  {
   "cell_type": "code",
   "execution_count": 46,
   "id": "7dbadf1f-c1a9-48a1-bebc-03f2d0808c85",
   "metadata": {},
   "outputs": [],
   "source": [
    "DF.to_csv('PRice.csv')"
   ]
  },
  {
   "cell_type": "code",
   "execution_count": 100,
   "id": "a79bca33-5ea9-40c3-a31e-71d424ccfd6d",
   "metadata": {},
   "outputs": [
    {
     "name": "stdout",
     "output_type": "stream",
     "text": [
      "$749.99\n",
      "$2,519.99\n",
      "$2,699.99\n",
      "$739.99\n",
      "$4,499.99\n",
      "$3,419.99\n",
      "$2,879.99\n",
      "$3,419.99\n",
      "$611.99\n",
      "$12,689.00\n",
      "$611.99\n",
      "$11,499.00\n",
      "$1,999.99\n",
      "$14,499.00\n",
      "$3,599.99\n",
      "$2,519.99\n",
      "$3,689.99\n",
      "$2,519.99\n",
      "$2,699.99\n",
      "$11,499.00\n",
      "$2,199.99\n"
     ]
    }
   ],
   "source": []
  },
  {
   "cell_type": "code",
   "execution_count": null,
   "id": "9301e1e4-b1e0-45e9-845d-df83b8832396",
   "metadata": {},
   "outputs": [],
   "source": []
  }
 ],
 "metadata": {
  "kernelspec": {
   "display_name": "Python 3 (ipykernel)",
   "language": "python",
   "name": "python3"
  },
  "language_info": {
   "codemirror_mode": {
    "name": "ipython",
    "version": 3
   },
   "file_extension": ".py",
   "mimetype": "text/x-python",
   "name": "python",
   "nbconvert_exporter": "python",
   "pygments_lexer": "ipython3",
   "version": "3.12.4"
  }
 },
 "nbformat": 4,
 "nbformat_minor": 5
}
